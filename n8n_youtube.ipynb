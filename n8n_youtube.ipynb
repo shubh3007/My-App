{
  "nbformat": 4,
  "nbformat_minor": 0,
  "metadata": {
    "colab": {
      "provenance": [],
      "authorship_tag": "ABX9TyPo4rV7aDjPPLxCuFgJJdXg",
      "include_colab_link": true
    },
    "kernelspec": {
      "name": "python3",
      "display_name": "Python 3"
    },
    "language_info": {
      "name": "python"
    }
  },
  "cells": [
    {
      "cell_type": "markdown",
      "metadata": {
        "id": "view-in-github",
        "colab_type": "text"
      },
      "source": [
        "<a href=\"https://colab.research.google.com/github/shubh3007/My-App/blob/main/n8n_youtube.ipynb\" target=\"_parent\"><img src=\"https://colab.research.google.com/assets/colab-badge.svg\" alt=\"Open In Colab\"/></a>"
      ]
    },
    {
      "cell_type": "code",
      "source": [
        "# Step 1: Authenticate and import libraries\n",
        "from google.colab import auth\n",
        "auth.authenticate_user()\n",
        "\n",
        "from googleapiclient.discovery import build\n",
        "from googleapiclient.http import MediaIoBaseDownload, MediaFileUpload\n",
        "import io\n",
        "import os\n",
        "import cv2\n",
        "from pydub import AudioSegment\n",
        "import ffmpeg\n",
        "import tempfile\n",
        "import shutil\n",
        "\n",
        "# Step 2: Set folder ID in your Drive where files are stored\n",
        "FOLDER_ID = \"14vNHH0itvmq_DiGVAMPxbS0Ck_ozNq_m\"  # your folder\n",
        "FILES = {\n",
        "    \"image1.jpg\": None,\n",
        "    \"image2.jpg\": None,\n",
        "    \"image3.jpg\": None,\n",
        "    \"audio.mp3\": None,\n",
        "    \"output.mp4\": None\n",
        "}\n",
        "\n",
        "# Step 3: Build Drive service\n",
        "drive_service = build('drive', 'v3')\n",
        "\n",
        "# Step 4: Helper to download a file by name from folder\n",
        "def download_file(file_name, folder_id):\n",
        "    results = drive_service.files().list(\n",
        "        q=f\"'{folder_id}' in parents and name='{file_name}' and trashed=false\",\n",
        "        spaces='drive',\n",
        "        fields=\"files(id, name)\"\n",
        "    ).execute()\n",
        "    items = results.get('files', [])\n",
        "    if not items:\n",
        "        raise FileNotFoundError(f\"File {file_name} not found in folder.\")\n",
        "    file_id = items[0]['id']\n",
        "    fh = io.FileIO(file_name, 'wb')\n",
        "    downloader = MediaIoBaseDownload(fh, drive_service.files().get_media(fileId=file_id))\n",
        "    done = False\n",
        "    while not done:\n",
        "        status, done = downloader.next_chunk()\n",
        "    print(f\"Downloaded {file_name}\")\n",
        "    return file_name\n",
        "\n",
        "# Step 5: Download images and audio\n",
        "for fname in [\"image1.jpg\", \"image2.jpg\", \"image3.jpg\", \"audio.mp3\"]:\n",
        "    FILES[fname] = download_file(fname, FOLDER_ID)\n",
        "\n",
        "# Step 6: Create video function\n",
        "def create_video_with_images_and_audio(image_paths, audio_path, output_path):\n",
        "    if len(image_paths) != 3:\n",
        "        raise ValueError(\"Exactly three images required.\")\n",
        "\n",
        "    # Load audio\n",
        "    audio = AudioSegment.from_file(audio_path)\n",
        "    audio_duration_sec = len(audio) / 1000.0\n",
        "    image_duration_sec = audio_duration_sec / 3\n",
        "\n",
        "    # Load images\n",
        "    images = [cv2.imread(p) for p in image_paths]\n",
        "    height, width, _ = images[0].shape\n",
        "    for i in range(len(images)):\n",
        "        if images[i].shape[0] != height or images[i].shape[1] != width:\n",
        "            images[i] = cv2.resize(images[i], (width, height))\n",
        "\n",
        "    # Create temp video\n",
        "    temp_dir = tempfile.mkdtemp()\n",
        "    temp_video_path = os.path.join(temp_dir, \"temp_video.mp4\")\n",
        "    fps = 30\n",
        "    fourcc = cv2.VideoWriter_fourcc(*'mp4v')\n",
        "    video_writer = cv2.VideoWriter(temp_video_path, fourcc, fps, (width, height))\n",
        "\n",
        "    frames_per_image = int(image_duration_sec * fps)\n",
        "    for img in images:\n",
        "        for _ in range(frames_per_image):\n",
        "            video_writer.write(img)\n",
        "    video_writer.release()\n",
        "\n",
        "    # Combine with audio using ffmpeg-python\n",
        "    try:\n",
        "        video_stream = ffmpeg.input(temp_video_path)\n",
        "        audio_stream = ffmpeg.input(audio_path)\n",
        "        ffmpeg.output(video_stream, audio_stream, output_path, vcodec='libx264', acodec='aac', shortest=None, strict='-2').run(overwrite_output=True, quiet=True)\n",
        "    except Exception as e:\n",
        "        print(f\"FFmpeg failed: {e}\")\n",
        "        shutil.copy2(temp_video_path, output_path)\n",
        "        print(\"Warning: Created video without audio.\")\n",
        "    finally:\n",
        "        shutil.rmtree(temp_dir, ignore_errors=True)\n",
        "\n",
        "    return output_path\n",
        "\n",
        "# Step 7: Run video creation\n",
        "output_file = \"output.mp4\"\n",
        "create_video_with_images_and_audio(\n",
        "    [\"image1.jpg\", \"image2.jpg\", \"image3.jpg\"],\n",
        "    \"audio.mp3\",\n",
        "    output_file\n",
        ")\n",
        "print(f\"Video created: {output_file}\")\n",
        "\n",
        "# Step 8: Upload output back to Drive\n",
        "file_metadata = {'name': 'output.mp4', 'parents':[FOLDER_ID]}\n",
        "media = MediaFileUpload(output_file, mimetype='video/mp4', resumable=True)\n",
        "uploaded = drive_service.files().create(body=file_metadata, media_body=media, fields='id').execute()\n",
        "print(f\"Uploaded output.mp4 to Drive with file ID: {uploaded['id']}\")\n"
      ],
      "metadata": {
        "colab": {
          "base_uri": "https://localhost:8080/"
        },
        "id": "O6axHIALnrzc",
        "outputId": "57a3b9a6-e243-48d0-8dbf-08538c21fe41"
      },
      "execution_count": 6,
      "outputs": [
        {
          "output_type": "stream",
          "name": "stdout",
          "text": [
            "Downloaded image1.jpg\n",
            "Downloaded image2.jpg\n",
            "Downloaded image3.jpg\n",
            "Downloaded audio.mp3\n",
            "Video created: output.mp4\n",
            "Uploaded output.mp4 to Drive with file ID: 1XNK4rePDi87gvCgdlleL9Gq-1d4KLjIW\n"
          ]
        }
      ]
    },
    {
      "cell_type": "code",
      "source": [],
      "metadata": {
        "id": "que5SF7poLg2"
      },
      "execution_count": null,
      "outputs": []
    }
  ]
}